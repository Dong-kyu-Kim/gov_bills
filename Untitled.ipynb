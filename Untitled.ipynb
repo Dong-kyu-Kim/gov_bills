{
 "cells": [
  {
   "cell_type": "code",
   "execution_count": 42,
   "id": "b7175ca8-47f4-4a45-b50d-aba929762427",
   "metadata": {},
   "outputs": [],
   "source": [
    "import pandas as pd\n",
    "import os"
   ]
  },
  {
   "cell_type": "code",
   "execution_count": 43,
   "id": "fdd26380-ae62-489b-8ad8-ea6dcf6a209c",
   "metadata": {},
   "outputs": [],
   "source": [
    "house_rep_csv = os.path.join(\"csv_files\", \"House_rep.csv\")\n",
    "house_vote_tallies_csv = os.path.join(\"csv_files\", \"house_vote_tallies_modified.csv\")\n",
    "\n",
    "house_rep_df = pd.read_csv(house_rep_csv, encoding = 'utf8')\n",
    "house_vote_tallies_df = pd.read_csv(house_vote_tallies_csv, encoding = 'utf8')"
   ]
  },
  {
   "cell_type": "code",
   "execution_count": 44,
   "id": "4dc9ce29-eb62-4f56-810b-598dfe8e3359",
   "metadata": {},
   "outputs": [
    {
     "data": {
      "text/html": [
       "<div>\n",
       "<style scoped>\n",
       "    .dataframe tbody tr th:only-of-type {\n",
       "        vertical-align: middle;\n",
       "    }\n",
       "\n",
       "    .dataframe tbody tr th {\n",
       "        vertical-align: top;\n",
       "    }\n",
       "\n",
       "    .dataframe thead th {\n",
       "        text-align: right;\n",
       "    }\n",
       "</style>\n",
       "<table border=\"1\" class=\"dataframe\">\n",
       "  <thead>\n",
       "    <tr style=\"text-align: right;\">\n",
       "      <th></th>\n",
       "      <th>Name</th>\n",
       "      <th>Term Type</th>\n",
       "      <th>Party</th>\n",
       "      <th>Start Date</th>\n",
       "      <th>End Date</th>\n",
       "      <th>State</th>\n",
       "      <th>District</th>\n",
       "      <th>Office Address</th>\n",
       "      <th>Phone</th>\n",
       "    </tr>\n",
       "  </thead>\n",
       "  <tbody>\n",
       "    <tr>\n",
       "      <th>393</th>\n",
       "      <td>Anthony D'Esposito</td>\n",
       "      <td>rep</td>\n",
       "      <td>Republican</td>\n",
       "      <td>2023-01-03</td>\n",
       "      <td>2025-01-03</td>\n",
       "      <td>NY</td>\n",
       "      <td>4</td>\n",
       "      <td>1508 Longworth House Office Building Washingto...</td>\n",
       "      <td>202-225-5516</td>\n",
       "    </tr>\n",
       "  </tbody>\n",
       "</table>\n",
       "</div>"
      ],
      "text/plain": [
       "                   Name Term Type       Party  Start Date    End Date State  \\\n",
       "393  Anthony D'Esposito       rep  Republican  2023-01-03  2025-01-03    NY   \n",
       "\n",
       "    District                                     Office Address         Phone  \n",
       "393        4  1508 Longworth House Office Building Washingto...  202-225-5516  "
      ]
     },
     "execution_count": 44,
     "metadata": {},
     "output_type": "execute_result"
    }
   ],
   "source": [
    "house_rep_df['Name'] = house_rep_df['Name'].replace(\"Anthony D’Esposito\", \"Anthony D'Esposito\")\n",
    "house_rep_df.loc[house_rep_df[\"Name\"] == \"Anthony D'Esposito\"]"
   ]
  },
  {
   "cell_type": "code",
   "execution_count": 45,
   "id": "b1b2b90a-c16e-4ff3-9054-d5b723a88be8",
   "metadata": {},
   "outputs": [],
   "source": [
    "output_csv_path = os.path.join(\"csv_files\", \"house_rep_names_modified.csv\")\n",
    "house_rep_df.to_csv(output_csv_path, encoding = 'utf8', index = False)"
   ]
  },
  {
   "cell_type": "code",
   "execution_count": null,
   "id": "c3c0fa8b-c7f1-4899-bb08-50bde530047c",
   "metadata": {},
   "outputs": [],
   "source": []
  }
 ],
 "metadata": {
  "kernelspec": {
   "display_name": "Python 3 (ipykernel)",
   "language": "python",
   "name": "python3"
  },
  "language_info": {
   "codemirror_mode": {
    "name": "ipython",
    "version": 3
   },
   "file_extension": ".py",
   "mimetype": "text/x-python",
   "name": "python",
   "nbconvert_exporter": "python",
   "pygments_lexer": "ipython3",
   "version": "3.11.7"
  }
 },
 "nbformat": 4,
 "nbformat_minor": 5
}
