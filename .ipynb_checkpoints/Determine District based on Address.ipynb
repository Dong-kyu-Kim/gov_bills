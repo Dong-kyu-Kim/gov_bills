{
 "cells": [
  {
   "cell_type": "code",
   "execution_count": 20,
   "id": "6b165a27-26a2-40cf-946d-919f7ce3ef32",
   "metadata": {},
   "outputs": [
    {
     "name": "stdin",
     "output_type": "stream",
     "text": [
      "Please enter your address:  1007 Claremont Dr, Concord, CA 94518\n"
     ]
    },
    {
     "name": "stdout",
     "output_type": "stream",
     "text": [
      "Your address falls in: Delegate District (at Large) - District 10, State Code 06\n"
     ]
    }
   ],
   "source": [
    "from geopy.geocoders import Nominatim\n",
    "import requests\n",
    "\n",
    "def get_coordinates(address):\n",
    "    \"\"\"Geocode the address to get latitude and longitude.\"\"\"\n",
    "    geolocator = Nominatim(user_agent=\"district_locator\")\n",
    "    location = geolocator.geocode(address)\n",
    "    if location:\n",
    "        #print(f\"Coordinates for {address}: {location.latitude}, {location.longitude}\")\n",
    "        return location.latitude, location.longitude\n",
    "    else:\n",
    "        raise ValueError(\"Address not found\")\n",
    "\n",
    "def get_congressional_district(lat, lon):\n",
    "    \"\"\"Use U.S. Census API to get congressional district from latitude and longitude.\"\"\"\n",
    "    url = f\"https://geocoding.geo.census.gov/geocoder/geographies/coordinates?x={lon}&y={lat}&benchmark=Public_AR_Current&vintage=Current_Current&layers=Congressional%20Districts&format=json\"\n",
    "    \n",
    "    response = requests.get(url)\n",
    "    if response.status_code == 200:\n",
    "        data = response.json()\n",
    "        #print(\"API Response:\", data)  # Log the full response for inspection\n",
    "        \n",
    "        try:\n",
    "            geographies = data['result']['geographies']\n",
    "            \n",
    "            # Check if the response contains the 119th Congressional Districts layer\n",
    "            if '119th Congressional Districts' in geographies:\n",
    "                district_info = geographies['119th Congressional Districts'][0]\n",
    "                district = district_info['CD119']\n",
    "                state = district_info['STATE']\n",
    "                return f\"Delegate District (at Large) - District {district}, State Code {state}\"\n",
    "            else:\n",
    "                # Handle non-standard cases (e.g., Washington, DC or unavailable districts)\n",
    "                print(\"Available layers:\", geographies.keys())\n",
    "                raise ValueError(\"Congressional District layer not found in the response.\")\n",
    "        except (KeyError, IndexError):\n",
    "            raise ValueError(\"District not found for the given location.\")\n",
    "    else:\n",
    "        raise ConnectionError(\"Failed to connect to the U.S. Census API\")\n",
    "\n",
    "def get_district_by_address(address):\n",
    "    \"\"\"Get congressional district based on an address.\"\"\"\n",
    "    lat, lon = get_coordinates(address)\n",
    "    district = get_congressional_district(lat, lon)\n",
    "    return district\n",
    "\n",
    "# Ask the user for their address\n",
    "user_address = input(\"Please enter your address: \")\n",
    "\n",
    "# Find and display the congressional district\n",
    "try:\n",
    "    district = get_district_by_address(user_address)\n",
    "    print(f\"Your address falls in: {district}\")\n",
    "except ValueError as ve:\n",
    "    print(f\"Error: {ve}\")\n",
    "except ConnectionError as ce:\n",
    "    print(f\"Connection Error: {ce}\")"
   ]
  },
  {
   "cell_type": "code",
   "execution_count": null,
   "id": "0f97800b-1077-4c6b-8119-c83dec0ac859",
   "metadata": {},
   "outputs": [],
   "source": []
  }
 ],
 "metadata": {
  "kernelspec": {
   "display_name": "Python 3 (ipykernel)",
   "language": "python",
   "name": "python3"
  },
  "language_info": {
   "codemirror_mode": {
    "name": "ipython",
    "version": 3
   },
   "file_extension": ".py",
   "mimetype": "text/x-python",
   "name": "python",
   "nbconvert_exporter": "python",
   "pygments_lexer": "ipython3",
   "version": "3.11.7"
  }
 },
 "nbformat": 4,
 "nbformat_minor": 5
}
